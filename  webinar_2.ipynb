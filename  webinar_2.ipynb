{
 "cells": [
  {
   "cell_type": "markdown",
   "id": "0ed4bb8a-6d80-4b66-b129-5f690298216f",
   "metadata": {},
   "source": [
    "# ДЗ по \"Библиотеки Python для Data Science: Numpy, Matplotlib, Scikit-learn\"\n",
    "\n",
    "##  Видеоурок 2. Вычисления с помощью Numpy. Работа с данными в Pandas\n",
    "* Домашнее задание:  \n",
    "[Практическое задание](https://gbcdn.mrgcdn.ru/uploads/asset/5788493/attachment/61ba828f4889847285070f109c8e3c8d.pdf).\n"
   ]
  },
  {
   "cell_type": "code",
   "execution_count": null,
   "id": "c91f1053-1b7b-4bef-89e3-1ff5b17c21c6",
   "metadata": {},
   "outputs": [],
   "source": []
  }
 ],
 "metadata": {
  "kernelspec": {
   "display_name": "Python 3 (ipykernel)",
   "language": "python",
   "name": "python3"
  },
  "language_info": {
   "codemirror_mode": {
    "name": "ipython",
    "version": 3
   },
   "file_extension": ".py",
   "mimetype": "text/x-python",
   "name": "python",
   "nbconvert_exporter": "python",
   "pygments_lexer": "ipython3",
   "version": "3.11.9"
  }
 },
 "nbformat": 4,
 "nbformat_minor": 5
}
