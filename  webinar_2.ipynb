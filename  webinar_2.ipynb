{
 "cells": [
  {
   "cell_type": "markdown",
   "id": "0ed4bb8a-6d80-4b66-b129-5f690298216f",
   "metadata": {},
   "source": [
    "# ДЗ по \"Библиотеки Python для Data Science: Numpy, Matplotlib, Scikit-learn\"\n",
    "\n",
    "##  Видеоурок 2. Вычисления с помощью Numpy. Работа с данными в Pandas\n",
    "* Домашнее задание:  \n",
    "[Практическое задание](https://gbcdn.mrgcdn.ru/uploads/asset/5788493/attachment/61ba828f4889847285070f109c8e3c8d.pdf).\n"
   ]
  },
  {
   "cell_type": "markdown",
   "id": "a0a732c3-5956-49d3-b243-a3ec3e7b8b57",
   "metadata": {
    "tags": []
   },
   "source": [
    "## Тема “Вычисления с помощью Numpy”"
   ]
  },
  {
   "cell_type": "code",
   "execution_count": 3,
   "id": "d40c88a9-576c-4a4e-8f81-f62b8895dc3e",
   "metadata": {
    "tags": []
   },
   "outputs": [],
   "source": [
    "# Устанавливаем пакет, если он не установлен\n",
    "# !pip install numpy"
   ]
  },
  {
   "cell_type": "code",
   "execution_count": 1,
   "id": "4ca36819-aa41-45cc-804b-2650c10c7976",
   "metadata": {
    "tags": []
   },
   "outputs": [],
   "source": [
    "import numpy as np"
   ]
  },
  {
   "cell_type": "markdown",
   "id": "59a068b2-aa13-4236-b75f-592442fc856e",
   "metadata": {},
   "source": [
    "### Задание 1\n",
    "Создайте массив Numpy под названием `a` размером 5x2, то есть состоящий из 5 строк\n",
    "и 2 столбцов. Первый столбец должен содержать числа 1, 2, 3, 3, 1, а второй - числа 6,\n",
    "8, 11, 10, 7. Будем считать, что каждый столбец - это признак, а строка - наблюдение.\n",
    "Затем найдите среднее значение по каждому признаку, используя метод mean массива\n",
    "Numpy. Результат запишите в массив `mean_a`, в нем должно быть 2 элемента."
   ]
  },
  {
   "cell_type": "code",
   "execution_count": 6,
   "id": "88d68af0-e999-422d-b9f0-d6ea34e7c35f",
   "metadata": {
    "tags": []
   },
   "outputs": [
    {
     "data": {
      "text/plain": [
       "array([[ 1,  6],\n",
       "       [ 2,  8],\n",
       "       [ 3, 11],\n",
       "       [ 3, 10],\n",
       "       [ 1,  7]])"
      ]
     },
     "execution_count": 6,
     "metadata": {},
     "output_type": "execute_result"
    }
   ],
   "source": [
    "# Создаём два массива Numpy размером 1х5 и изменяем размер на 5х1 (5 строк, -1 столбецов сколько получитья, то есть 1)\n",
    "first_column = np.array([1, 2, 3, 3, 1]).reshape(5, -1)\n",
    "second_column = np.array([6, 8, 11, 10, 7]).reshape(5, -1)\n",
    "# Соединим два столбца\n",
    "a = np.hstack((first_column, second_column))\n",
    "a"
   ]
  },
  {
   "cell_type": "code",
   "execution_count": 9,
   "id": "9b45a029-a4f2-4d51-95e0-b74c4b5d7a20",
   "metadata": {
    "tags": []
   },
   "outputs": [
    {
     "data": {
      "text/plain": [
       "array([2. , 8.4])"
      ]
     },
     "execution_count": 9,
     "metadata": {},
     "output_type": "execute_result"
    }
   ],
   "source": [
    "# Запишем среднее значение по каждому столбцу (axis=0 - считаем по столбцам)\n",
    "mean_a = a.mean(axis=0)\n",
    "mean_a"
   ]
  },
  {
   "cell_type": "markdown",
   "id": "d6df9a72-2e65-433e-b38b-7433a4874658",
   "metadata": {},
   "source": [
    "### Задание 2\n",
    "Вычислите массив a_centered, отняв от значений массива “а” средние значения\n",
    "соответствующих признаков, содержащиеся в массиве mean_a. Вычисление должно\n",
    "производиться в одно действие. Получившийся массив должен иметь размер 5x2."
   ]
  },
  {
   "cell_type": "code",
   "execution_count": 11,
   "id": "30b47d85-04ab-48d7-82b4-de45f89e71f6",
   "metadata": {
    "tags": []
   },
   "outputs": [
    {
     "data": {
      "text/plain": [
       "array([[-1. , -2.4],\n",
       "       [ 0. , -0.4],\n",
       "       [ 1. ,  2.6],\n",
       "       [ 1. ,  1.6],\n",
       "       [-1. , -1.4]])"
      ]
     },
     "execution_count": 11,
     "metadata": {},
     "output_type": "execute_result"
    }
   ],
   "source": [
    "a_centered = a - mean_a\n",
    "a_centered"
   ]
  },
  {
   "cell_type": "markdown",
   "id": "d6fc74ea-b078-4bc4-be2a-6ce3485be28b",
   "metadata": {
    "tags": []
   },
   "source": [
    "### Задание 3\n",
    "Найдите скалярное произведение столбцов массива a_centered. В результате должна\n",
    "получиться величина _centered_spa. Затем поделите a_centered_sp на N-1, где N - число\n",
    "наблюдений."
   ]
  },
  {
   "cell_type": "code",
   "execution_count": 17,
   "id": "01994bf0-14d3-4473-a981-b4cb8361748e",
   "metadata": {},
   "outputs": [
    {
     "data": {
      "text/plain": [
       "array([-1.,  0.,  1.,  1., -1.])"
      ]
     },
     "execution_count": 17,
     "metadata": {},
     "output_type": "execute_result"
    }
   ],
   "source": [
    "a_centered[:, 0]"
   ]
  },
  {
   "cell_type": "code",
   "execution_count": 26,
   "id": "7e05ece9-1ccc-4096-9eb8-57479b321495",
   "metadata": {
    "tags": []
   },
   "outputs": [
    {
     "data": {
      "text/plain": [
       "2.0"
      ]
     },
     "execution_count": 26,
     "metadata": {},
     "output_type": "execute_result"
    }
   ],
   "source": [
    "# Вычислим скалярное произведение двух столбцов\n",
    "a_centered_sp = np.dot(a_centered[:, 0], a_centered[:, 1])\n",
    "# Вычислим количество наблюдений (сколько у нас строк)\n",
    "N = a_centered.shape[0]\n",
    "# Вычислим результат\n",
    "result = a_centered_sp / (N - 1)   \n",
    "result"
   ]
  },
  {
   "cell_type": "markdown",
   "id": "8a3cd4fa-eb5c-48f7-9d30-cfd5a4cb3c37",
   "metadata": {},
   "source": [
    "### Задание 4**\n",
    "\n",
    "Число, которое мы получили в конце задания 3 является ковариацией двух признаков, содержащихся\n",
    "в массиве “а”. В задании 4 мы делили сумму произведений центрированных признаков на N-1, а не на\n",
    "N, поэтому полученная нами величина является несмещенной оценкой ковариации.\n",
    "Подробнее узнать о ковариации можно здесь:  \n",
    "\n",
    "[Выборочная ковариация и выборочная дисперсия — Студопедия](https://studopedia.ru/9_153900_viborochnaya-kovariatsiya-i-viborochnaya-dispersiya.html)  \n",
    "\n",
    "В этом задании проверьте получившееся число, вычислив ковариацию еще одним способом - с\n",
    "помощью функции np.cov. В качестве аргумента m функция np.cov должна принимать\n",
    "транспонированный массив “a”. В получившейся ковариационной матрице (массив Numpy размером\n",
    "2x2) искомое значение ковариации будет равно элементу в строке с индексом 0 и столбце с индексом\n",
    "1."
   ]
  },
  {
   "cell_type": "code",
   "execution_count": 34,
   "id": "7aeef8b9-80aa-4ac8-a245-383e3d82e254",
   "metadata": {
    "tags": []
   },
   "outputs": [
    {
     "data": {
      "text/plain": [
       "2.0"
      ]
     },
     "execution_count": 34,
     "metadata": {},
     "output_type": "execute_result"
    }
   ],
   "source": [
    "# Проверим результат с помощью функции cov\n",
    "check = np.cov(m=a.T)[0, 1]\n",
    "check"
   ]
  },
  {
   "cell_type": "code",
   "execution_count": null,
   "id": "d7635e24-e77c-4301-a466-d7eb81fbfa7a",
   "metadata": {},
   "outputs": [],
   "source": []
  }
 ],
 "metadata": {
  "kernelspec": {
   "display_name": "Python 3 (ipykernel)",
   "language": "python",
   "name": "python3"
  },
  "language_info": {
   "codemirror_mode": {
    "name": "ipython",
    "version": 3
   },
   "file_extension": ".py",
   "mimetype": "text/x-python",
   "name": "python",
   "nbconvert_exporter": "python",
   "pygments_lexer": "ipython3",
   "version": "3.11.9"
  }
 },
 "nbformat": 4,
 "nbformat_minor": 5
}
