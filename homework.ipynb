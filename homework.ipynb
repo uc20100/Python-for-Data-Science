{
 "cells": [
  {
   "cell_type": "markdown",
   "id": "f0a76fff-fdad-4086-a7e1-b2b8f0a3bb13",
   "metadata": {},
   "source": [
    "# ДЗ по \"Библиотеки Python для Data Science: Numpy, Matplotlib, Scikit-learn\"\n",
    "##  Видеоурок 6. Обучение с учителем в Scikit-learn.\n",
    "* Домашнее задание:  \n",
    "[Практическое задание](https://gbcdn.mrgcdn.ru/uploads/asset/5788496/attachment/d8fe09d4348597c3d8cf86f8d459dc5d.pdf)."
   ]
  },
  {
   "cell_type": "markdown",
   "id": "ed148c5a-08de-496e-8485-2c004a2d5fb2",
   "metadata": {},
   "source": [
    "## Тема “Обучение с учителем””"
   ]
  },
  {
   "cell_type": "code",
   "execution_count": 154,
   "id": "1939102d-f921-45c8-ae78-225a735a2d67",
   "metadata": {
    "tags": []
   },
   "outputs": [],
   "source": [
    "# Устанавливаем пакеты есои они не установлены\n",
    "# !pip install pandas\n",
    "# !pip install numpy\n",
    "# !pip install -U scikit-learn"
   ]
  },
  {
   "cell_type": "markdown",
   "id": "0e3181dd-a1bc-400a-a056-5ed4c45eca0e",
   "metadata": {
    "tags": []
   },
   "source": [
    "### Задание 1\n",
    "- Импортируйте библиотеки `pandas` и `numpy`.\n",
    "- Загрузите `Boston House Prices dataset` из встроенных наборов данных библиотеки `sklearn`.\n",
    "- Разбейте эти датафреймы на тренировочные (`X_train`, `y_train`) и тестовые (`X_test`, `y_test`) с помощью функции `train_test_split` так, чтобы размер тестовой выборки составлял 30% от всех данных, при этом аргумент `random state` должен быть равен 42.\n",
    "- Создайте модель линейной регрессии под названием `lr` с помощью класса `LinearRegression` из модуля `sklearn.linear_model`.\n",
    "- Обучите модель на тренировочных данных (используйте все признаки) и сделайте предсказание на тестовых."
   ]
  },
  {
   "cell_type": "code",
   "execution_count": 155,
   "id": "ecd2f9ff-b435-42c0-84b3-ca26b3de8570",
   "metadata": {
    "tags": []
   },
   "outputs": [],
   "source": [
    "# Загружаем необходимые библиотеки\n",
    "import numpy as np\n",
    "import pandas as pd\n",
    "\n",
    "# Уберем warnings\n",
    "import warnings\n",
    "warnings.filterwarnings('ignore')"
   ]
  },
  {
   "cell_type": "markdown",
   "id": "e83545f4-c51c-4983-b1aa-1c5a80fb1b24",
   "metadata": {},
   "source": [
    "В новых версиях `scikit-learn` нет датасета `boston`, но хочется воспользоваться последней версией `scikit-learn`. Поэтому воспользуемся [инструкцией](https://scikit-learn.org/1.0/modules/generated/sklearn.datasets.load_boston.html) приведённой на официальном сайте."
   ]
  },
  {
   "cell_type": "code",
   "execution_count": 156,
   "id": "c0cca69f-6761-4d88-82d4-722245e87888",
   "metadata": {
    "tags": []
   },
   "outputs": [],
   "source": [
    "# Загрузим датасет Boston\n",
    "data_url = \"http://lib.stat.cmu.edu/datasets/boston\"\n",
    "raw_df = pd.read_csv(data_url, sep=\"\\s+\", skiprows=22, header=None)\n",
    "data = np.hstack([raw_df.values[::2, :], raw_df.values[1::2, :2]])\n",
    "target = raw_df.values[1::2, 2]\n",
    "# Преобразуем его в датафрейм\n",
    "# Фичи\n",
    "X = pd.DataFrame(data, columns=['CRIM', 'ZN', 'INDUS', 'CHAS', 'NOX', 'RM', 'AGE', 'DIS', 'RAD', 'TAX', 'PTRATIO', 'B', 'LSTAT'])\n",
    "# Таргет\n",
    "y = pd.DataFrame(target, columns=['price'])"
   ]
  },
  {
   "cell_type": "code",
   "execution_count": 157,
   "id": "09712d79-3e5f-481f-9a03-67a9eb0a3771",
   "metadata": {
    "tags": []
   },
   "outputs": [
    {
     "data": {
      "text/html": [
       "<div>\n",
       "<style scoped>\n",
       "    .dataframe tbody tr th:only-of-type {\n",
       "        vertical-align: middle;\n",
       "    }\n",
       "\n",
       "    .dataframe tbody tr th {\n",
       "        vertical-align: top;\n",
       "    }\n",
       "\n",
       "    .dataframe thead th {\n",
       "        text-align: right;\n",
       "    }\n",
       "</style>\n",
       "<table border=\"1\" class=\"dataframe\">\n",
       "  <thead>\n",
       "    <tr style=\"text-align: right;\">\n",
       "      <th></th>\n",
       "      <th>CRIM</th>\n",
       "      <th>ZN</th>\n",
       "      <th>INDUS</th>\n",
       "      <th>CHAS</th>\n",
       "      <th>NOX</th>\n",
       "      <th>RM</th>\n",
       "      <th>AGE</th>\n",
       "      <th>DIS</th>\n",
       "      <th>RAD</th>\n",
       "      <th>TAX</th>\n",
       "      <th>PTRATIO</th>\n",
       "      <th>B</th>\n",
       "      <th>LSTAT</th>\n",
       "    </tr>\n",
       "  </thead>\n",
       "  <tbody>\n",
       "    <tr>\n",
       "      <th>0</th>\n",
       "      <td>0.00632</td>\n",
       "      <td>18.0</td>\n",
       "      <td>2.31</td>\n",
       "      <td>0.0</td>\n",
       "      <td>0.538</td>\n",
       "      <td>6.575</td>\n",
       "      <td>65.2</td>\n",
       "      <td>4.0900</td>\n",
       "      <td>1.0</td>\n",
       "      <td>296.0</td>\n",
       "      <td>15.3</td>\n",
       "      <td>396.90</td>\n",
       "      <td>4.98</td>\n",
       "    </tr>\n",
       "    <tr>\n",
       "      <th>1</th>\n",
       "      <td>0.02731</td>\n",
       "      <td>0.0</td>\n",
       "      <td>7.07</td>\n",
       "      <td>0.0</td>\n",
       "      <td>0.469</td>\n",
       "      <td>6.421</td>\n",
       "      <td>78.9</td>\n",
       "      <td>4.9671</td>\n",
       "      <td>2.0</td>\n",
       "      <td>242.0</td>\n",
       "      <td>17.8</td>\n",
       "      <td>396.90</td>\n",
       "      <td>9.14</td>\n",
       "    </tr>\n",
       "    <tr>\n",
       "      <th>2</th>\n",
       "      <td>0.02729</td>\n",
       "      <td>0.0</td>\n",
       "      <td>7.07</td>\n",
       "      <td>0.0</td>\n",
       "      <td>0.469</td>\n",
       "      <td>7.185</td>\n",
       "      <td>61.1</td>\n",
       "      <td>4.9671</td>\n",
       "      <td>2.0</td>\n",
       "      <td>242.0</td>\n",
       "      <td>17.8</td>\n",
       "      <td>392.83</td>\n",
       "      <td>4.03</td>\n",
       "    </tr>\n",
       "    <tr>\n",
       "      <th>3</th>\n",
       "      <td>0.03237</td>\n",
       "      <td>0.0</td>\n",
       "      <td>2.18</td>\n",
       "      <td>0.0</td>\n",
       "      <td>0.458</td>\n",
       "      <td>6.998</td>\n",
       "      <td>45.8</td>\n",
       "      <td>6.0622</td>\n",
       "      <td>3.0</td>\n",
       "      <td>222.0</td>\n",
       "      <td>18.7</td>\n",
       "      <td>394.63</td>\n",
       "      <td>2.94</td>\n",
       "    </tr>\n",
       "    <tr>\n",
       "      <th>4</th>\n",
       "      <td>0.06905</td>\n",
       "      <td>0.0</td>\n",
       "      <td>2.18</td>\n",
       "      <td>0.0</td>\n",
       "      <td>0.458</td>\n",
       "      <td>7.147</td>\n",
       "      <td>54.2</td>\n",
       "      <td>6.0622</td>\n",
       "      <td>3.0</td>\n",
       "      <td>222.0</td>\n",
       "      <td>18.7</td>\n",
       "      <td>396.90</td>\n",
       "      <td>5.33</td>\n",
       "    </tr>\n",
       "  </tbody>\n",
       "</table>\n",
       "</div>"
      ],
      "text/plain": [
       "      CRIM    ZN  INDUS  CHAS    NOX     RM   AGE     DIS  RAD    TAX  \\\n",
       "0  0.00632  18.0   2.31   0.0  0.538  6.575  65.2  4.0900  1.0  296.0   \n",
       "1  0.02731   0.0   7.07   0.0  0.469  6.421  78.9  4.9671  2.0  242.0   \n",
       "2  0.02729   0.0   7.07   0.0  0.469  7.185  61.1  4.9671  2.0  242.0   \n",
       "3  0.03237   0.0   2.18   0.0  0.458  6.998  45.8  6.0622  3.0  222.0   \n",
       "4  0.06905   0.0   2.18   0.0  0.458  7.147  54.2  6.0622  3.0  222.0   \n",
       "\n",
       "   PTRATIO       B  LSTAT  \n",
       "0     15.3  396.90   4.98  \n",
       "1     17.8  396.90   9.14  \n",
       "2     17.8  392.83   4.03  \n",
       "3     18.7  394.63   2.94  \n",
       "4     18.7  396.90   5.33  "
      ]
     },
     "execution_count": 157,
     "metadata": {},
     "output_type": "execute_result"
    }
   ],
   "source": [
    "X.head()"
   ]
  },
  {
   "cell_type": "code",
   "execution_count": 158,
   "id": "70094d1b-e302-4cff-af47-7f29bf2044ab",
   "metadata": {
    "tags": []
   },
   "outputs": [
    {
     "name": "stdout",
     "output_type": "stream",
     "text": [
      "<class 'pandas.core.frame.DataFrame'>\n",
      "RangeIndex: 506 entries, 0 to 505\n",
      "Data columns (total 13 columns):\n",
      " #   Column   Non-Null Count  Dtype  \n",
      "---  ------   --------------  -----  \n",
      " 0   CRIM     506 non-null    float64\n",
      " 1   ZN       506 non-null    float64\n",
      " 2   INDUS    506 non-null    float64\n",
      " 3   CHAS     506 non-null    float64\n",
      " 4   NOX      506 non-null    float64\n",
      " 5   RM       506 non-null    float64\n",
      " 6   AGE      506 non-null    float64\n",
      " 7   DIS      506 non-null    float64\n",
      " 8   RAD      506 non-null    float64\n",
      " 9   TAX      506 non-null    float64\n",
      " 10  PTRATIO  506 non-null    float64\n",
      " 11  B        506 non-null    float64\n",
      " 12  LSTAT    506 non-null    float64\n",
      "dtypes: float64(13)\n",
      "memory usage: 51.5 KB\n"
     ]
    }
   ],
   "source": [
    "X.info()"
   ]
  },
  {
   "cell_type": "code",
   "execution_count": 159,
   "id": "237129f6-1b0c-4bf5-844f-b651ee79838c",
   "metadata": {
    "tags": []
   },
   "outputs": [
    {
     "data": {
      "text/html": [
       "<div>\n",
       "<style scoped>\n",
       "    .dataframe tbody tr th:only-of-type {\n",
       "        vertical-align: middle;\n",
       "    }\n",
       "\n",
       "    .dataframe tbody tr th {\n",
       "        vertical-align: top;\n",
       "    }\n",
       "\n",
       "    .dataframe thead th {\n",
       "        text-align: right;\n",
       "    }\n",
       "</style>\n",
       "<table border=\"1\" class=\"dataframe\">\n",
       "  <thead>\n",
       "    <tr style=\"text-align: right;\">\n",
       "      <th></th>\n",
       "      <th>price</th>\n",
       "    </tr>\n",
       "  </thead>\n",
       "  <tbody>\n",
       "    <tr>\n",
       "      <th>0</th>\n",
       "      <td>24.0</td>\n",
       "    </tr>\n",
       "    <tr>\n",
       "      <th>1</th>\n",
       "      <td>21.6</td>\n",
       "    </tr>\n",
       "    <tr>\n",
       "      <th>2</th>\n",
       "      <td>34.7</td>\n",
       "    </tr>\n",
       "    <tr>\n",
       "      <th>3</th>\n",
       "      <td>33.4</td>\n",
       "    </tr>\n",
       "    <tr>\n",
       "      <th>4</th>\n",
       "      <td>36.2</td>\n",
       "    </tr>\n",
       "  </tbody>\n",
       "</table>\n",
       "</div>"
      ],
      "text/plain": [
       "   price\n",
       "0   24.0\n",
       "1   21.6\n",
       "2   34.7\n",
       "3   33.4\n",
       "4   36.2"
      ]
     },
     "execution_count": 159,
     "metadata": {},
     "output_type": "execute_result"
    }
   ],
   "source": [
    "y.head()"
   ]
  },
  {
   "cell_type": "code",
   "execution_count": 160,
   "id": "64dade84-abbd-4bf4-9b45-69566a3633a0",
   "metadata": {
    "tags": []
   },
   "outputs": [
    {
     "name": "stdout",
     "output_type": "stream",
     "text": [
      "<class 'pandas.core.frame.DataFrame'>\n",
      "RangeIndex: 506 entries, 0 to 505\n",
      "Data columns (total 1 columns):\n",
      " #   Column  Non-Null Count  Dtype  \n",
      "---  ------  --------------  -----  \n",
      " 0   price   506 non-null    float64\n",
      "dtypes: float64(1)\n",
      "memory usage: 4.1 KB\n"
     ]
    }
   ],
   "source": [
    "y.info()"
   ]
  },
  {
   "cell_type": "code",
   "execution_count": 161,
   "id": "6f27e214-366e-41ec-b99d-54b9b1741842",
   "metadata": {
    "tags": []
   },
   "outputs": [],
   "source": [
    "# Модуль для зазбиения выборки на тренировочнию и тестовую\n",
    "from sklearn.model_selection import train_test_split\n",
    "\n",
    "# Разобьём выборку на тренировочную (70%) и тестовую (30%)\n",
    "X_train, X_test, y_train, y_test = train_test_split(X, y, test_size=0.3, random_state=42)"
   ]
  },
  {
   "cell_type": "code",
   "execution_count": 162,
   "id": "851ca466-a0fa-4842-8832-fa5dc5cc6388",
   "metadata": {
    "tags": []
   },
   "outputs": [
    {
     "data": {
      "text/html": [
       "<div>\n",
       "<style scoped>\n",
       "    .dataframe tbody tr th:only-of-type {\n",
       "        vertical-align: middle;\n",
       "    }\n",
       "\n",
       "    .dataframe tbody tr th {\n",
       "        vertical-align: top;\n",
       "    }\n",
       "\n",
       "    .dataframe thead th {\n",
       "        text-align: right;\n",
       "    }\n",
       "</style>\n",
       "<table border=\"1\" class=\"dataframe\">\n",
       "  <thead>\n",
       "    <tr style=\"text-align: right;\">\n",
       "      <th></th>\n",
       "      <th>CRIM</th>\n",
       "      <th>ZN</th>\n",
       "      <th>INDUS</th>\n",
       "      <th>CHAS</th>\n",
       "      <th>NOX</th>\n",
       "      <th>RM</th>\n",
       "      <th>AGE</th>\n",
       "      <th>DIS</th>\n",
       "      <th>RAD</th>\n",
       "      <th>TAX</th>\n",
       "      <th>PTRATIO</th>\n",
       "      <th>B</th>\n",
       "      <th>LSTAT</th>\n",
       "    </tr>\n",
       "  </thead>\n",
       "  <tbody>\n",
       "    <tr>\n",
       "      <th>5</th>\n",
       "      <td>0.02985</td>\n",
       "      <td>0.0</td>\n",
       "      <td>2.18</td>\n",
       "      <td>0.0</td>\n",
       "      <td>0.458</td>\n",
       "      <td>6.430</td>\n",
       "      <td>58.7</td>\n",
       "      <td>6.0622</td>\n",
       "      <td>3.0</td>\n",
       "      <td>222.0</td>\n",
       "      <td>18.7</td>\n",
       "      <td>394.12</td>\n",
       "      <td>5.21</td>\n",
       "    </tr>\n",
       "    <tr>\n",
       "      <th>116</th>\n",
       "      <td>0.13158</td>\n",
       "      <td>0.0</td>\n",
       "      <td>10.01</td>\n",
       "      <td>0.0</td>\n",
       "      <td>0.547</td>\n",
       "      <td>6.176</td>\n",
       "      <td>72.5</td>\n",
       "      <td>2.7301</td>\n",
       "      <td>6.0</td>\n",
       "      <td>432.0</td>\n",
       "      <td>17.8</td>\n",
       "      <td>393.30</td>\n",
       "      <td>12.04</td>\n",
       "    </tr>\n",
       "    <tr>\n",
       "      <th>45</th>\n",
       "      <td>0.17142</td>\n",
       "      <td>0.0</td>\n",
       "      <td>6.91</td>\n",
       "      <td>0.0</td>\n",
       "      <td>0.448</td>\n",
       "      <td>5.682</td>\n",
       "      <td>33.8</td>\n",
       "      <td>5.1004</td>\n",
       "      <td>3.0</td>\n",
       "      <td>233.0</td>\n",
       "      <td>17.9</td>\n",
       "      <td>396.90</td>\n",
       "      <td>10.21</td>\n",
       "    </tr>\n",
       "    <tr>\n",
       "      <th>16</th>\n",
       "      <td>1.05393</td>\n",
       "      <td>0.0</td>\n",
       "      <td>8.14</td>\n",
       "      <td>0.0</td>\n",
       "      <td>0.538</td>\n",
       "      <td>5.935</td>\n",
       "      <td>29.3</td>\n",
       "      <td>4.4986</td>\n",
       "      <td>4.0</td>\n",
       "      <td>307.0</td>\n",
       "      <td>21.0</td>\n",
       "      <td>386.85</td>\n",
       "      <td>6.58</td>\n",
       "    </tr>\n",
       "    <tr>\n",
       "      <th>468</th>\n",
       "      <td>15.57570</td>\n",
       "      <td>0.0</td>\n",
       "      <td>18.10</td>\n",
       "      <td>0.0</td>\n",
       "      <td>0.580</td>\n",
       "      <td>5.926</td>\n",
       "      <td>71.0</td>\n",
       "      <td>2.9084</td>\n",
       "      <td>24.0</td>\n",
       "      <td>666.0</td>\n",
       "      <td>20.2</td>\n",
       "      <td>368.74</td>\n",
       "      <td>18.13</td>\n",
       "    </tr>\n",
       "    <tr>\n",
       "      <th>...</th>\n",
       "      <td>...</td>\n",
       "      <td>...</td>\n",
       "      <td>...</td>\n",
       "      <td>...</td>\n",
       "      <td>...</td>\n",
       "      <td>...</td>\n",
       "      <td>...</td>\n",
       "      <td>...</td>\n",
       "      <td>...</td>\n",
       "      <td>...</td>\n",
       "      <td>...</td>\n",
       "      <td>...</td>\n",
       "      <td>...</td>\n",
       "    </tr>\n",
       "    <tr>\n",
       "      <th>106</th>\n",
       "      <td>0.17120</td>\n",
       "      <td>0.0</td>\n",
       "      <td>8.56</td>\n",
       "      <td>0.0</td>\n",
       "      <td>0.520</td>\n",
       "      <td>5.836</td>\n",
       "      <td>91.9</td>\n",
       "      <td>2.2110</td>\n",
       "      <td>5.0</td>\n",
       "      <td>384.0</td>\n",
       "      <td>20.9</td>\n",
       "      <td>395.67</td>\n",
       "      <td>18.66</td>\n",
       "    </tr>\n",
       "    <tr>\n",
       "      <th>270</th>\n",
       "      <td>0.29916</td>\n",
       "      <td>20.0</td>\n",
       "      <td>6.96</td>\n",
       "      <td>0.0</td>\n",
       "      <td>0.464</td>\n",
       "      <td>5.856</td>\n",
       "      <td>42.1</td>\n",
       "      <td>4.4290</td>\n",
       "      <td>3.0</td>\n",
       "      <td>223.0</td>\n",
       "      <td>18.6</td>\n",
       "      <td>388.65</td>\n",
       "      <td>13.00</td>\n",
       "    </tr>\n",
       "    <tr>\n",
       "      <th>348</th>\n",
       "      <td>0.01501</td>\n",
       "      <td>80.0</td>\n",
       "      <td>2.01</td>\n",
       "      <td>0.0</td>\n",
       "      <td>0.435</td>\n",
       "      <td>6.635</td>\n",
       "      <td>29.7</td>\n",
       "      <td>8.3440</td>\n",
       "      <td>4.0</td>\n",
       "      <td>280.0</td>\n",
       "      <td>17.0</td>\n",
       "      <td>390.94</td>\n",
       "      <td>5.99</td>\n",
       "    </tr>\n",
       "    <tr>\n",
       "      <th>435</th>\n",
       "      <td>11.16040</td>\n",
       "      <td>0.0</td>\n",
       "      <td>18.10</td>\n",
       "      <td>0.0</td>\n",
       "      <td>0.740</td>\n",
       "      <td>6.629</td>\n",
       "      <td>94.6</td>\n",
       "      <td>2.1247</td>\n",
       "      <td>24.0</td>\n",
       "      <td>666.0</td>\n",
       "      <td>20.2</td>\n",
       "      <td>109.85</td>\n",
       "      <td>23.27</td>\n",
       "    </tr>\n",
       "    <tr>\n",
       "      <th>102</th>\n",
       "      <td>0.22876</td>\n",
       "      <td>0.0</td>\n",
       "      <td>8.56</td>\n",
       "      <td>0.0</td>\n",
       "      <td>0.520</td>\n",
       "      <td>6.405</td>\n",
       "      <td>85.4</td>\n",
       "      <td>2.7147</td>\n",
       "      <td>5.0</td>\n",
       "      <td>384.0</td>\n",
       "      <td>20.9</td>\n",
       "      <td>70.80</td>\n",
       "      <td>10.63</td>\n",
       "    </tr>\n",
       "  </tbody>\n",
       "</table>\n",
       "<p>354 rows × 13 columns</p>\n",
       "</div>"
      ],
      "text/plain": [
       "         CRIM    ZN  INDUS  CHAS    NOX     RM   AGE     DIS   RAD    TAX  \\\n",
       "5     0.02985   0.0   2.18   0.0  0.458  6.430  58.7  6.0622   3.0  222.0   \n",
       "116   0.13158   0.0  10.01   0.0  0.547  6.176  72.5  2.7301   6.0  432.0   \n",
       "45    0.17142   0.0   6.91   0.0  0.448  5.682  33.8  5.1004   3.0  233.0   \n",
       "16    1.05393   0.0   8.14   0.0  0.538  5.935  29.3  4.4986   4.0  307.0   \n",
       "468  15.57570   0.0  18.10   0.0  0.580  5.926  71.0  2.9084  24.0  666.0   \n",
       "..        ...   ...    ...   ...    ...    ...   ...     ...   ...    ...   \n",
       "106   0.17120   0.0   8.56   0.0  0.520  5.836  91.9  2.2110   5.0  384.0   \n",
       "270   0.29916  20.0   6.96   0.0  0.464  5.856  42.1  4.4290   3.0  223.0   \n",
       "348   0.01501  80.0   2.01   0.0  0.435  6.635  29.7  8.3440   4.0  280.0   \n",
       "435  11.16040   0.0  18.10   0.0  0.740  6.629  94.6  2.1247  24.0  666.0   \n",
       "102   0.22876   0.0   8.56   0.0  0.520  6.405  85.4  2.7147   5.0  384.0   \n",
       "\n",
       "     PTRATIO       B  LSTAT  \n",
       "5       18.7  394.12   5.21  \n",
       "116     17.8  393.30  12.04  \n",
       "45      17.9  396.90  10.21  \n",
       "16      21.0  386.85   6.58  \n",
       "468     20.2  368.74  18.13  \n",
       "..       ...     ...    ...  \n",
       "106     20.9  395.67  18.66  \n",
       "270     18.6  388.65  13.00  \n",
       "348     17.0  390.94   5.99  \n",
       "435     20.2  109.85  23.27  \n",
       "102     20.9   70.80  10.63  \n",
       "\n",
       "[354 rows x 13 columns]"
      ]
     },
     "execution_count": 162,
     "metadata": {},
     "output_type": "execute_result"
    }
   ],
   "source": [
    "X_train"
   ]
  },
  {
   "cell_type": "code",
   "execution_count": 163,
   "id": "d50d83e4-ad4e-4e34-9af4-6be2ec4d32c4",
   "metadata": {},
   "outputs": [],
   "source": [
    "# Модуль линейной регрессии\n",
    "from sklearn.linear_model import LinearRegression"
   ]
  },
  {
   "cell_type": "code",
   "execution_count": 164,
   "id": "93970516-8dc2-420c-b1c9-4655db565d2d",
   "metadata": {
    "tags": []
   },
   "outputs": [
    {
     "data": {
      "text/plain": [
       "(152, 1)"
      ]
     },
     "execution_count": 164,
     "metadata": {},
     "output_type": "execute_result"
    }
   ],
   "source": [
    "lr = LinearRegression()\n",
    "# Обучим модель\n",
    "lr.fit(X_train, y_train)\n",
    "# Выполним predict\n",
    "y_pred = lr.predict(X_test)\n",
    "\n",
    "y_pred.shape"
   ]
  },
  {
   "cell_type": "code",
   "execution_count": 165,
   "id": "cd4e4565-b68d-4ba1-ac34-191984f3beb7",
   "metadata": {
    "tags": []
   },
   "outputs": [
    {
     "data": {
      "text/html": [
       "<div>\n",
       "<style scoped>\n",
       "    .dataframe tbody tr th:only-of-type {\n",
       "        vertical-align: middle;\n",
       "    }\n",
       "\n",
       "    .dataframe tbody tr th {\n",
       "        vertical-align: top;\n",
       "    }\n",
       "\n",
       "    .dataframe thead th {\n",
       "        text-align: right;\n",
       "    }\n",
       "</style>\n",
       "<table border=\"1\" class=\"dataframe\">\n",
       "  <thead>\n",
       "    <tr style=\"text-align: right;\">\n",
       "      <th></th>\n",
       "      <th>y_test</th>\n",
       "      <th>y_pred</th>\n",
       "    </tr>\n",
       "  </thead>\n",
       "  <tbody>\n",
       "    <tr>\n",
       "      <th>173</th>\n",
       "      <td>23.6</td>\n",
       "      <td>28.648960</td>\n",
       "    </tr>\n",
       "    <tr>\n",
       "      <th>274</th>\n",
       "      <td>32.4</td>\n",
       "      <td>36.495014</td>\n",
       "    </tr>\n",
       "    <tr>\n",
       "      <th>491</th>\n",
       "      <td>13.6</td>\n",
       "      <td>15.411193</td>\n",
       "    </tr>\n",
       "    <tr>\n",
       "      <th>72</th>\n",
       "      <td>22.8</td>\n",
       "      <td>25.403213</td>\n",
       "    </tr>\n",
       "    <tr>\n",
       "      <th>452</th>\n",
       "      <td>16.1</td>\n",
       "      <td>18.855280</td>\n",
       "    </tr>\n",
       "    <tr>\n",
       "      <th>76</th>\n",
       "      <td>20.0</td>\n",
       "      <td>23.146689</td>\n",
       "    </tr>\n",
       "    <tr>\n",
       "      <th>316</th>\n",
       "      <td>17.8</td>\n",
       "      <td>17.392124</td>\n",
       "    </tr>\n",
       "    <tr>\n",
       "      <th>140</th>\n",
       "      <td>14.0</td>\n",
       "      <td>14.078599</td>\n",
       "    </tr>\n",
       "    <tr>\n",
       "      <th>471</th>\n",
       "      <td>19.6</td>\n",
       "      <td>23.036927</td>\n",
       "    </tr>\n",
       "    <tr>\n",
       "      <th>500</th>\n",
       "      <td>16.8</td>\n",
       "      <td>20.599433</td>\n",
       "    </tr>\n",
       "  </tbody>\n",
       "</table>\n",
       "</div>"
      ],
      "text/plain": [
       "     y_test     y_pred\n",
       "173    23.6  28.648960\n",
       "274    32.4  36.495014\n",
       "491    13.6  15.411193\n",
       "72     22.8  25.403213\n",
       "452    16.1  18.855280\n",
       "76     20.0  23.146689\n",
       "316    17.8  17.392124\n",
       "140    14.0  14.078599\n",
       "471    19.6  23.036927\n",
       "500    16.8  20.599433"
      ]
     },
     "execution_count": 165,
     "metadata": {},
     "output_type": "execute_result"
    }
   ],
   "source": [
    "# Посмотрим реальные и предсказанные значения\n",
    "check_test = pd.DataFrame({\n",
    "    \"y_test\": y_test[\"price\"],\n",
    "    \"y_pred\": y_pred.flatten(),\n",
    "})\n",
    "\n",
    "check_test.head(10)"
   ]
  },
  {
   "cell_type": "markdown",
   "id": "56309f94-077d-4518-a004-143ca6967c7e",
   "metadata": {},
   "source": [
    "Одной из основных метрик для оценки качества моделей регрессии является _средняя квадратическая ошибка_ или _mean squared error_, сокращённо _mse_. Она вычисляется как среднее от квадратов ошибок на каждом из объектов:"
   ]
  },
  {
   "cell_type": "code",
   "execution_count": 169,
   "id": "c9b1415e-a6fc-4f8f-b808-3ec2cdffd4c2",
   "metadata": {
    "tags": []
   },
   "outputs": [
    {
     "data": {
      "text/plain": [
       "21.51744423117709"
      ]
     },
     "execution_count": 169,
     "metadata": {},
     "output_type": "execute_result"
    }
   ],
   "source": [
    "from sklearn.metrics import mean_squared_error\n",
    "\n",
    "mean_squared_error(check_test[\"y_pred\"], check_test[\"y_test\"])"
   ]
  },
  {
   "cell_type": "markdown",
   "id": "bd3745a4-c4ff-4de8-95f3-29252144b4ee",
   "metadata": {},
   "source": [
    "Также применяется средняя абсолютная ошибка. Она представляет из себя среднее не от квадратов ошибок, а от их модулей:"
   ]
  },
  {
   "cell_type": "code",
   "execution_count": 170,
   "id": "b633f3fc-b3bd-47aa-860c-8a8652ce36bd",
   "metadata": {
    "tags": []
   },
   "outputs": [
    {
     "data": {
      "text/plain": [
       "3.1627098714573947"
      ]
     },
     "execution_count": 170,
     "metadata": {},
     "output_type": "execute_result"
    }
   ],
   "source": [
    "from sklearn.metrics import mean_absolute_error\n",
    "\n",
    "mean_absolute_error(check_test[\"y_pred\"], check_test[\"y_test\"])"
   ]
  },
  {
   "cell_type": "code",
   "execution_count": 166,
   "id": "21b462d3-6834-4520-8cf2-2de3e92f60f6",
   "metadata": {
    "tags": []
   },
   "outputs": [
    {
     "data": {
      "text/plain": [
       "array([-3.  , -2.88, -2.76, -2.64, -2.52, -2.4 , -2.28, -2.16, -2.04,\n",
       "       -1.92, -1.8 , -1.68, -1.56, -1.44, -1.32, -1.2 , -1.08, -0.96,\n",
       "       -0.84, -0.72, -0.6 , -0.48, -0.36, -0.24, -0.12,  0.  ,  0.12,\n",
       "        0.24,  0.36,  0.48,  0.6 ,  0.72,  0.84,  0.96,  1.08,  1.2 ,\n",
       "        1.32,  1.44,  1.56,  1.68,  1.8 ,  1.92,  2.04,  2.16,  2.28,\n",
       "        2.4 ,  2.52,  2.64,  2.76,  2.88,  3.  ])"
      ]
     },
     "execution_count": 166,
     "metadata": {},
     "output_type": "execute_result"
    }
   ],
   "source": [
    "# Создадим массив Х\n",
    "x = np.linspace(-3, 3, 51)\n",
    "x"
   ]
  },
  {
   "cell_type": "code",
   "execution_count": 167,
   "id": "9230a361-5240-4922-a590-3606b97a76d7",
   "metadata": {
    "tags": []
   },
   "outputs": [
    {
     "name": "stdout",
     "output_type": "stream",
     "text": [
      "[9.     8.2944 7.6176 6.9696 6.3504 5.76   5.1984 4.6656 4.1616 3.6864\n",
      " 3.24   2.8224 2.4336 2.0736 1.7424 1.44   1.1664 0.9216 0.7056 0.5184\n",
      " 0.36   0.2304 0.1296 0.0576 0.0144 0.     0.0144 0.0576 0.1296 0.2304\n",
      " 0.36   0.5184 0.7056 0.9216 1.1664 1.44   1.7424 2.0736 2.4336 2.8224\n",
      " 3.24   3.6864 4.1616 4.6656 5.1984 5.76   6.3504 6.9696 7.6176 8.2944\n",
      " 9.    ]\n",
      "[-5.5  -5.26 -5.02 -4.78 -4.54 -4.3  -4.06 -3.82 -3.58 -3.34 -3.1  -2.86\n",
      " -2.62 -2.38 -2.14 -1.9  -1.66 -1.42 -1.18 -0.94 -0.7  -0.46 -0.22  0.02\n",
      "  0.26  0.5   0.74  0.98  1.22  1.46  1.7   1.94  2.18  2.42  2.66  2.9\n",
      "  3.14  3.38  3.62  3.86  4.1   4.34  4.58  4.82  5.06  5.3   5.54  5.78\n",
      "  6.02  6.26  6.5 ]\n",
      "[  7.5    7.14   6.78   6.42   6.06   5.7    5.34   4.98   4.62   4.26\n",
      "   3.9    3.54   3.18   2.82   2.46   2.1    1.74   1.38   1.02   0.66\n",
      "   0.3   -0.06  -0.42  -0.78  -1.14  -1.5   -1.86  -2.22  -2.58  -2.94\n",
      "  -3.3   -3.66  -4.02  -4.38  -4.74  -5.1   -5.46  -5.82  -6.18  -6.54\n",
      "  -6.9   -7.26  -7.62  -7.98  -8.34  -8.7   -9.06  -9.42  -9.78 -10.14\n",
      " -10.5 ]\n",
      "[-0.14112001 -0.25861935 -0.37239904 -0.48082261 -0.58233065 -0.67546318\n",
      " -0.75888071 -0.83138346 -0.89192865 -0.93964547 -0.97384763 -0.9940432\n",
      " -0.99994172 -0.99145835 -0.9687151  -0.93203909 -0.88195781 -0.81919157\n",
      " -0.74464312 -0.65938467 -0.56464247 -0.46177918 -0.35227423 -0.23770263\n",
      " -0.11971221  0.          0.11971221  0.23770263  0.35227423  0.46177918\n",
      "  0.56464247  0.65938467  0.74464312  0.81919157  0.88195781  0.93203909\n",
      "  0.9687151   0.99145835  0.99994172  0.9940432   0.97384763  0.93964547\n",
      "  0.89192865  0.83138346  0.75888071  0.67546318  0.58233065  0.48082261\n",
      "  0.37239904  0.25861935  0.14112001]\n"
     ]
    }
   ],
   "source": [
    "# Создадим массивы y1, y2, y3, y4\n",
    "y1 = x**2\n",
    "y2 = 2 * x + 0.5\n",
    "y3 = -3 * x - 1.5\n",
    "y4 = np.sin(x)\n",
    "print(y1)\n",
    "print(y2)\n",
    "print(y3)\n",
    "print(y4)"
   ]
  },
  {
   "cell_type": "code",
   "execution_count": 168,
   "id": "0cd99fb8-1292-45f5-b5cc-91f1eb35dd0b",
   "metadata": {
    "tags": []
   },
   "outputs": [
    {
     "ename": "NameError",
     "evalue": "name 'plt' is not defined",
     "output_type": "error",
     "traceback": [
      "\u001b[1;31m---------------------------------------------------------------------------\u001b[0m",
      "\u001b[1;31mNameError\u001b[0m                                 Traceback (most recent call last)",
      "Cell \u001b[1;32mIn[168], line 2\u001b[0m\n\u001b[0;32m      1\u001b[0m \u001b[38;5;66;03m# Создаём массив 2х2 для графиков\u001b[39;00m\n\u001b[1;32m----> 2\u001b[0m fig, ax \u001b[38;5;241m=\u001b[39m \u001b[43mplt\u001b[49m\u001b[38;5;241m.\u001b[39msubplots(nrows\u001b[38;5;241m=\u001b[39m\u001b[38;5;241m2\u001b[39m, ncols\u001b[38;5;241m=\u001b[39m\u001b[38;5;241m2\u001b[39m)\n\u001b[0;32m      3\u001b[0m ax1, ax2, ax3, ax4 \u001b[38;5;241m=\u001b[39m ax\u001b[38;5;241m.\u001b[39mflatten()\n\u001b[0;32m      5\u001b[0m \u001b[38;5;66;03m# Задаём размеры фигуры 8х6 дюймов\u001b[39;00m\n",
      "\u001b[1;31mNameError\u001b[0m: name 'plt' is not defined"
     ]
    }
   ],
   "source": [
    "# Создаём массив 2х2 для графиков\n",
    "fig, ax = plt.subplots(nrows=2, ncols=2)\n",
    "ax1, ax2, ax3, ax4 = ax.flatten()\n",
    "\n",
    "# Задаём размеры фигуры 8х6 дюймов\n",
    "fig.set_size_inches(8, 6)\n",
    "# Зазоры между графиками по вертикали и горизонтали\n",
    "fig.subplots_adjust(wspace=0.3, hspace=0.3)\n",
    "\n",
    "ax1.plot(x, y1)\n",
    "# Название графика\n",
    "ax1.set_title(\"График y1\")\n",
    "# Задаём границы оси по Х\n",
    "ax1.set_xlim([-5, 5])\n",
    "\n",
    "ax2.plot(x, y2)\n",
    "ax2.set_title(\"График y2\")\n",
    "\n",
    "ax3.plot(x, y3)\n",
    "ax3.set_title(\"График y3\")\n",
    "\n",
    "ax4.plot(x, y4)\n",
    "ax4.set_title(\"График y4\")\n",
    "\n",
    "plt.show()"
   ]
  },
  {
   "cell_type": "code",
   "execution_count": null,
   "id": "c0b6a94c-e847-4311-828f-7d0bddc8ca80",
   "metadata": {
    "tags": []
   },
   "outputs": [],
   "source": [
    "# Импоррртируем библиотеку pandas\n",
    "import pandas as pd\n",
    "# Установим стиль для графиков 'fivethirtyeight'\n",
    "plt.style.use('fivethirtyeight')\n",
    "\n",
    "# Читаем csv файл\n",
    "df = pd.read_csv('./creditcard.csv', engine='python', on_bad_lines='skip')\n",
    "df.head()"
   ]
  },
  {
   "cell_type": "code",
   "execution_count": null,
   "id": "cf81ae95-97cc-4765-9465-ac20165b3166",
   "metadata": {
    "tags": []
   },
   "outputs": [],
   "source": [
    "df.shape"
   ]
  },
  {
   "cell_type": "code",
   "execution_count": null,
   "id": "d8cb7c97-2674-4aae-bb9c-35287f6ea3ee",
   "metadata": {
    "tags": []
   },
   "outputs": [],
   "source": [
    "# Подсчитаем количество уникальных значений в целевой переменной 'Class'\n",
    "class_value = df['Class'].value_counts()\n",
    "class_value"
   ]
  },
  {
   "cell_type": "code",
   "execution_count": null,
   "id": "b7ce7b73-4595-443e-9034-87be6b8f09c9",
   "metadata": {
    "tags": []
   },
   "outputs": [],
   "source": [
    "# Построим столбчатую диаграмму\n",
    "class_value.plot(kind=\"bar\")\n",
    "\n",
    "plt.show()"
   ]
  },
  {
   "cell_type": "code",
   "execution_count": null,
   "id": "5987ad36-1bb3-4cc1-b222-3243ba4b1b21",
   "metadata": {
    "tags": []
   },
   "outputs": [],
   "source": [
    "# Диаграмма с использованием логарифмического масштаба\n",
    "class_value.plot(kind=\"bar\", logy=True)\n",
    "\n",
    "plt.show()"
   ]
  },
  {
   "cell_type": "code",
   "execution_count": null,
   "id": "a2583eb6-6ebb-4ed4-a0a9-94a0f8c666d8",
   "metadata": {
    "tags": []
   },
   "outputs": [],
   "source": [
    "# Мошенники\n",
    "scammers = df.query('Class == 1')['V1']\n",
    "scammers"
   ]
  },
  {
   "cell_type": "code",
   "execution_count": null,
   "id": "952ef61b-e7ce-461f-826a-b4879067e52b",
   "metadata": {
    "tags": []
   },
   "outputs": [],
   "source": [
    "# Нормальные\n",
    "normal = df[df['Class'] == 0]['V1']\n",
    "normal"
   ]
  },
  {
   "cell_type": "code",
   "execution_count": null,
   "id": "5de8d1ff-4716-4aaa-a781-9627015d04df",
   "metadata": {
    "tags": []
   },
   "outputs": [],
   "source": [
    "# Параметры заголовка\n",
    "title_font = {\n",
    "    \"fontsize\": 16,\n",
    "    \"fontweight\": \"bold\",\n",
    "    \"color\": \"#FFA500\",\n",
    "    \"family\": \"serif\",\n",
    "}\n",
    "\n",
    "# Параметры надписей\n",
    "label_font = {\n",
    "    \"fontsize\": 14,\n",
    "    \"family\": \"serif\",\n",
    "}\n",
    "\n",
    "# Графики с осью плотности распределения, заданной прозрачностью, цветом и бинами\n",
    "plt.hist(normal, density=True, bins=20, alpha=0.5, color=\"grey\", label=\"Class 0 (нормальные)\")\n",
    "plt.hist(scammers, density=True, bins=20, alpha=0.5, color=\"red\", label=\"Class 1 (жульё)\")\n",
    "# Подпись оси Х\n",
    "plt.xlabel(\"V1\", fontdict=label_font)\n",
    "# Название графика\n",
    "plt.title(\"Нормальные VS жульё\", fontdict=title_font)\n",
    "# Отображаем легенду графика\n",
    "plt.legend(loc=\"center left\")\n",
    "\n",
    "plt.show()"
   ]
  },
  {
   "cell_type": "markdown",
   "id": "df9fb212-6faf-46cb-8e71-8eaad5dec2d1",
   "metadata": {
    "tags": []
   },
   "source": [
    "#### 1. Создать одномерный массив Numpy под названием `a` из 12 последовательных целых чисел чисел от 12 до 24 невключительно"
   ]
  },
  {
   "cell_type": "code",
   "execution_count": null,
   "id": "b5875f61-6b46-4ddc-8b94-85b5f487cd8f",
   "metadata": {
    "tags": []
   },
   "outputs": [],
   "source": [
    "a = np.arange(12, 24)\n",
    "a"
   ]
  },
  {
   "cell_type": "markdown",
   "id": "29f149d7-19f2-4bb4-95c3-421c09e8f988",
   "metadata": {
    "tags": []
   },
   "source": [
    "#### 2. Создать 5 двумерных массивов разной формы из массива `a`. Не использовать в аргументах метода `reshape` число -1."
   ]
  },
  {
   "cell_type": "code",
   "execution_count": null,
   "id": "dc21c01f-e691-43f0-9327-d96f87d36aef",
   "metadata": {
    "tags": []
   },
   "outputs": [],
   "source": [
    "a1 = a.reshape(2, 6)\n",
    "a1"
   ]
  },
  {
   "cell_type": "code",
   "execution_count": null,
   "id": "fb54fb76-f450-4c72-9d64-7e3d6e95a08b",
   "metadata": {
    "tags": []
   },
   "outputs": [],
   "source": [
    "a2 = a.reshape(3, 4)\n",
    "a2"
   ]
  },
  {
   "cell_type": "code",
   "execution_count": null,
   "id": "f0573016-4665-4384-9ce9-88be6d398b3c",
   "metadata": {
    "tags": []
   },
   "outputs": [],
   "source": [
    "a3 = a.reshape(4, 3)\n",
    "a3"
   ]
  },
  {
   "cell_type": "code",
   "execution_count": null,
   "id": "79b4aa7d-6cb3-4a74-8121-2bd951162bc2",
   "metadata": {
    "tags": []
   },
   "outputs": [],
   "source": [
    "a4 = a.reshape(6, 2) \n",
    "a4"
   ]
  },
  {
   "cell_type": "code",
   "execution_count": null,
   "id": "788f414c-6d51-4ae8-968b-e7be78742042",
   "metadata": {
    "tags": []
   },
   "outputs": [],
   "source": [
    "a5 = a.reshape(12, 1)\n",
    "a5"
   ]
  },
  {
   "cell_type": "markdown",
   "id": "1f925a52-bbe5-4e5d-8faf-57b9b3912fec",
   "metadata": {
    "tags": []
   },
   "source": [
    "#### 3. Создать 5 двумерных массивов разной формы из массива `a`. Использовать в аргументах метода `reshape` число -1 (в трех примерах - для обозначения числа столбцов, в двух - для строк)."
   ]
  },
  {
   "cell_type": "code",
   "execution_count": null,
   "id": "4aeef565-41d8-4841-b271-f75207aec351",
   "metadata": {
    "tags": []
   },
   "outputs": [],
   "source": [
    "a1 = a.reshape(2, -1)\n",
    "a1"
   ]
  },
  {
   "cell_type": "code",
   "execution_count": null,
   "id": "4acd7a8b-f8b0-4150-a96b-502ebe51d772",
   "metadata": {
    "tags": []
   },
   "outputs": [],
   "source": [
    "a2 = a.reshape(3, -1)\n",
    "a2"
   ]
  },
  {
   "cell_type": "code",
   "execution_count": null,
   "id": "7616700a-4416-4b7c-b984-7e9cfb58bc4e",
   "metadata": {
    "tags": []
   },
   "outputs": [],
   "source": [
    "a3 = a.reshape(4, -1)\n",
    "a3"
   ]
  },
  {
   "cell_type": "code",
   "execution_count": null,
   "id": "852615cf-d599-445b-a314-07ad89d8f423",
   "metadata": {
    "tags": []
   },
   "outputs": [],
   "source": [
    "a4 = a.reshape(-1, 2)\n",
    "a4"
   ]
  },
  {
   "cell_type": "code",
   "execution_count": null,
   "id": "f11695dc-e4c5-49f9-9124-12aa58d4cc3b",
   "metadata": {
    "tags": []
   },
   "outputs": [],
   "source": [
    "a5 = a.reshape(-1, 1)\n",
    "a5"
   ]
  },
  {
   "cell_type": "markdown",
   "id": "8d30b622-6652-490e-b12e-7628a4a94763",
   "metadata": {
    "tags": []
   },
   "source": [
    "#### 4. Можно ли массив Numpy, состоящий из одного столбца и 12 строк, назвать одномерным?"
   ]
  },
  {
   "cell_type": "code",
   "execution_count": null,
   "id": "56b4799d-a419-4bbf-b934-9f65ffd17cca",
   "metadata": {
    "tags": []
   },
   "outputs": [],
   "source": [
    "a5"
   ]
  },
  {
   "cell_type": "code",
   "execution_count": null,
   "id": "ae78f89d-777c-4f42-9966-8a5fc5be53b7",
   "metadata": {
    "tags": []
   },
   "outputs": [],
   "source": [
    "a5[2, 0]"
   ]
  },
  {
   "cell_type": "code",
   "execution_count": null,
   "id": "e5fece8f-1181-4b92-ad33-558869aa78b5",
   "metadata": {
    "tags": []
   },
   "outputs": [],
   "source": [
    "a5.shape"
   ]
  },
  {
   "cell_type": "markdown",
   "id": "f66c8f90-fbf3-4242-9fe5-c2b742edb3a6",
   "metadata": {},
   "source": [
    "##### Думаю, что это двумерный массив, посколько нужно указывать два индекса, чтобы получить элемент."
   ]
  },
  {
   "cell_type": "markdown",
   "id": "2806ebde-798b-4a10-8387-38f3c56c5286",
   "metadata": {
    "tags": []
   },
   "source": [
    "#### 5. Создать массив из 3 строк и 4 столбцов, состоящий из случайных чисел с плавающей запятой из нормального распределения со средним, равным 0 и среднеквадратичным отклонением, равным 1.0. Получить из этого массива одномерный массив с таким же атрибутом `size`, как и исходный массив.  \n",
    "\n",
    "[Модуль random](https://www.dmitrymakarov.ru/python/random-11-03/)"
   ]
  },
  {
   "cell_type": "code",
   "execution_count": null,
   "id": "2054b41a-e775-45f1-becc-b9c2644770c2",
   "metadata": {
    "tags": []
   },
   "outputs": [],
   "source": [
    "# зададим точку отсчета\n",
    "np.random.seed(245)\n",
    "\n",
    "# создадим массив 3х4 (12 значений) нормально распределенной величины с матожиданием 0 и СКО 1\n",
    "b = np.random.normal(0, 1, 12).reshape(3, -1)\n",
    "b"
   ]
  },
  {
   "cell_type": "code",
   "execution_count": null,
   "id": "6598b2b6-f3dd-41e6-8038-c3f037c62e2f",
   "metadata": {
    "tags": []
   },
   "outputs": [],
   "source": [
    "print(f'Среднее значение: {b.mean()}, Среднеквадратичное отклонение: {b.std()}')"
   ]
  },
  {
   "cell_type": "code",
   "execution_count": null,
   "id": "a0f600bb-187b-4538-b6c6-662a75f2a9ab",
   "metadata": {
    "tags": []
   },
   "outputs": [],
   "source": [
    "b2 = b.reshape(-1)\n",
    "b2"
   ]
  },
  {
   "cell_type": "code",
   "execution_count": null,
   "id": "de6845e5-e3e0-4a5d-ba79-eaf54b884392",
   "metadata": {
    "tags": []
   },
   "outputs": [],
   "source": [
    "b.size == b2.size"
   ]
  },
  {
   "cell_type": "code",
   "execution_count": null,
   "id": "a98a432b-af71-4812-ba16-5d9f44c26073",
   "metadata": {
    "tags": []
   },
   "outputs": [],
   "source": [
    "# Посмотрим на распределение\n",
    "plt.hist(b2, density=True, bins=20, alpha=0.5)\n",
    "# Название графика\n",
    "plt.title(\"Распределение\", fontdict=title_font)\n",
    "# Подпишем ось y\n",
    "plt.ylabel(\"Плотность распределения\", fontdict=label_font)\n",
    "\n",
    "plt.show()"
   ]
  },
  {
   "cell_type": "markdown",
   "id": "729ad63c-05f7-4af8-b58c-ddd6cacee846",
   "metadata": {
    "tags": []
   },
   "source": [
    "#### 6. Создать массив `a`, состоящий из целых чисел, убывающих от 20 до 0 невключительно с интервалом 2."
   ]
  },
  {
   "cell_type": "code",
   "execution_count": null,
   "id": "708c4769-71b5-465b-88d6-f44dfd3f95b7",
   "metadata": {
    "tags": []
   },
   "outputs": [],
   "source": [
    "a = np.arange(20, 0, -2)\n",
    "a"
   ]
  },
  {
   "cell_type": "markdown",
   "id": "b01a071d-1d74-4bce-8233-ae4b1eacb933",
   "metadata": {
    "tags": []
   },
   "source": [
    "#### 7. Создать массив `b`, состоящий из 1 строки и 10 столбцов: целых чисел, убывающих от 20 до 1 невключительно с интервалом 2. В чем разница между массивами `a` и `b`?"
   ]
  },
  {
   "cell_type": "code",
   "execution_count": null,
   "id": "ffd0fb47-9087-40f7-8c39-497f78417d69",
   "metadata": {},
   "outputs": [],
   "source": [
    "b = np.arange(20, 1, -2).reshape(1, 10)\n",
    "b"
   ]
  },
  {
   "cell_type": "code",
   "execution_count": null,
   "id": "c00a162c-b20c-43a8-a782-9298ca90fd44",
   "metadata": {
    "tags": []
   },
   "outputs": [],
   "source": [
    "a.shape"
   ]
  },
  {
   "cell_type": "code",
   "execution_count": null,
   "id": "223c4a6e-8caf-4915-93e2-716dd38bb950",
   "metadata": {
    "tags": []
   },
   "outputs": [],
   "source": [
    "b.shape"
   ]
  },
  {
   "cell_type": "markdown",
   "id": "b54927ed-fc26-4d09-b84c-27ebba776e4e",
   "metadata": {},
   "source": [
    "##### Разница в том, что массив `a` одномерный, а массив `b` двумерный."
   ]
  },
  {
   "cell_type": "markdown",
   "id": "18b8177e-42ab-4179-9a8f-aa9c93956fa4",
   "metadata": {
    "tags": []
   },
   "source": [
    "#### 8. Вертикально соединить массивы `a` и `b`. `a` - двумерный массив из нулей, число строк которого больше 1 и на 1 меньше, чем число строк двумерного массива `b`, состоящего из единиц. Итоговый массив `v` должен иметь атрибут `size`, равный 10."
   ]
  },
  {
   "cell_type": "code",
   "execution_count": null,
   "id": "87a7badf-1137-48bf-9604-ed0f06df095d",
   "metadata": {
    "tags": []
   },
   "outputs": [],
   "source": [
    "a = np.zeros((3, 2))\n",
    "a"
   ]
  },
  {
   "cell_type": "code",
   "execution_count": null,
   "id": "3bd1339f-049f-498a-ae99-b5fd1113eabb",
   "metadata": {
    "tags": []
   },
   "outputs": [],
   "source": [
    "b = np.ones((2, 2))\n",
    "b"
   ]
  },
  {
   "cell_type": "code",
   "execution_count": null,
   "id": "34336c5e-270a-4def-bf33-c406365f8355",
   "metadata": {
    "tags": []
   },
   "outputs": [],
   "source": [
    "# Способ 1\n",
    "v = np.vstack((a, b))\n",
    "v"
   ]
  },
  {
   "cell_type": "code",
   "execution_count": null,
   "id": "6cf5a85e-328a-451d-ab4e-3caed56ef2aa",
   "metadata": {
    "tags": []
   },
   "outputs": [],
   "source": [
    "v.size"
   ]
  },
  {
   "cell_type": "code",
   "execution_count": null,
   "id": "0434fa8f-737e-4608-8767-93a3c8632356",
   "metadata": {
    "tags": []
   },
   "outputs": [],
   "source": [
    "# Способ 2\n",
    "v = np.concatenate((a, b), axis=0)\n",
    "v"
   ]
  },
  {
   "cell_type": "code",
   "execution_count": null,
   "id": "c4970b3c-1c32-447a-bcae-a711d352e2b1",
   "metadata": {
    "tags": []
   },
   "outputs": [],
   "source": [
    "v.size"
   ]
  },
  {
   "cell_type": "markdown",
   "id": "45de5e77-4961-4f9c-b193-94b3c45129aa",
   "metadata": {
    "tags": []
   },
   "source": [
    "#### 9. Создать одномерный массив `а`, состоящий из последовательности целых чисел от 0 до 12. Поменять форму этого массива, чтобы получилась матрица `A` (двумерный массив Numpy), состоящая из 4 строк и 3 столбцов. Получить матрицу `At` путем транспонирования матрицы `A`. Получить матрицу `B`, умножив матрицу `A` на матрицу `At` с помощью матричного умножения. Какой размер имеет матрица `B`? Получится ли вычислить обратную матрицу для матрицы `B` и почему?"
   ]
  },
  {
   "cell_type": "code",
   "execution_count": null,
   "id": "7ab13b66-881e-4265-97d4-9a166d2c698a",
   "metadata": {
    "tags": []
   },
   "outputs": [],
   "source": [
    "a = np.arange(1, 13)\n",
    "a"
   ]
  },
  {
   "cell_type": "code",
   "execution_count": null,
   "id": "ee79c42b-733c-4bd9-96f4-10b6ddf565a3",
   "metadata": {
    "tags": []
   },
   "outputs": [],
   "source": [
    "A = a.reshape(4, 3)\n",
    "A"
   ]
  },
  {
   "cell_type": "code",
   "execution_count": null,
   "id": "e99b8034-433c-4b7e-8cf9-cd2c997b0f95",
   "metadata": {
    "tags": []
   },
   "outputs": [],
   "source": [
    "At = A.T\n",
    "At"
   ]
  },
  {
   "cell_type": "code",
   "execution_count": null,
   "id": "cbf2e30b-a8e8-49ae-ba91-a82ccc54fff4",
   "metadata": {
    "tags": []
   },
   "outputs": [],
   "source": [
    "B =  A.dot(At)\n",
    "B"
   ]
  },
  {
   "cell_type": "code",
   "execution_count": null,
   "id": "dff9f2cf-03dc-44cb-b069-9d2aa6466d22",
   "metadata": {
    "tags": []
   },
   "outputs": [],
   "source": [
    "B.shape"
   ]
  },
  {
   "cell_type": "code",
   "execution_count": null,
   "id": "06ebd2eb-c62e-4234-a509-63e0d32936bd",
   "metadata": {
    "tags": []
   },
   "outputs": [],
   "source": [
    "def calc_param_matrix(matrix):\n",
    "    '''\n",
    "    Функция вычисляет определитель матрицы и обратную матрицу.\n",
    "    \n",
    "    :param matrix: Исследуемая матрица,\n",
    "    :return: вердикт в txt, обратная матрица.\n",
    "    '''\n",
    "    result_out = 'Определитель матрицы равен 0, обратную матрицу вычислить нельзя'\n",
    "    matrix_1 = 0\n",
    "    \n",
    "    # Вычисляем определитель матрицы\n",
    "    D = np.round(np.linalg.det(matrix), decimals=2)\n",
    "    \n",
    "    # Проверяем, чему равен определитель матрицы, если нулю, то  обратную матрицу вычислить нельзя\n",
    "    if D:\n",
    "        result_out = f'Определитель матрицы равен: {D}\\n'\n",
    "        # Вычислим ранг матрицы\n",
    "        rang = np.linalg.matrix_rank(matrix)\n",
    "        result_out += f'Ранг матрицы равен: {rang}\\n'\n",
    "        # Вычисляем обратную матрицу\n",
    "        matrix_1 = np.linalg.inv(matrix)\n",
    "        result_out += 'Обратная матрица\\n'\n",
    "        result_out += np.array2string(matrix_1)\n",
    "        # Проверяем перемножаем матрицу и обратную матрицу, получим единичную матрицу\n",
    "        result_out += '\\nПроверка (матрица * обратная матрица)\\n'\n",
    "        result_out += np.array2string(np.round(matrix_1.dot(matrix), decimals=2))\n",
    "    \n",
    "    return result_out, matrix_1\n"
   ]
  },
  {
   "cell_type": "code",
   "execution_count": null,
   "id": "013b698d-a2c4-4e41-b709-978f7473ad99",
   "metadata": {
    "tags": []
   },
   "outputs": [],
   "source": [
    "# print(calc_param_matrix([[1.,2], [3, 4]])[0])    # тест\n",
    "print(calc_param_matrix(B)[0])"
   ]
  },
  {
   "cell_type": "markdown",
   "id": "ce22d488-02dc-4fc3-b5e6-eed0a58dd5ec",
   "metadata": {
    "tags": []
   },
   "source": [
    "##### Матрица B имеет размер 4х4, обратную матрицу вычислить нельзя, по скольку определитель матрицы равен 0"
   ]
  },
  {
   "cell_type": "markdown",
   "id": "d55fb8ef-62ef-4f53-8660-a371e36138ad",
   "metadata": {
    "tags": []
   },
   "source": [
    "#### 10. Инициализируйте генератор случайных числе с помощью объекта `seed`, равного 42."
   ]
  },
  {
   "cell_type": "code",
   "execution_count": null,
   "id": "15fdfaa4-2a6a-4162-94c3-2eed7f74aace",
   "metadata": {
    "tags": []
   },
   "outputs": [],
   "source": [
    "# Инициализируем генератор случайных чисел\n",
    "np.random.seed(42)"
   ]
  },
  {
   "cell_type": "markdown",
   "id": "43f707ee-7555-42aa-b366-8aba96f10b07",
   "metadata": {},
   "source": [
    "#### 11. Создайте одномерный массив c, составленный из последовательности 16-ти случайных равномерно распределенных целых чисел от 0 до 16 невключительно.\n",
    "\n",
    "[Модули math и numpy](https://education.yandex.ru/handbook/python/article/moduli-math-i-numpy)  \n",
    "[Работа со случайными величинами (numpy.random и scipy.stats)](https://miptstats.github.io/courses/python/07_random.html)"
   ]
  },
  {
   "cell_type": "code",
   "execution_count": null,
   "id": "96fb4d9a-69f1-47e4-ab26-89a08ee92557",
   "metadata": {
    "tags": []
   },
   "outputs": [],
   "source": [
    "# Случайные равномерно распределённые числа\n",
    "a = np.random.uniform(0, 15, 16).astype(int)\n",
    "a"
   ]
  },
  {
   "cell_type": "code",
   "execution_count": null,
   "id": "c19190e1-ca7b-4aaf-afb7-e3c58232a099",
   "metadata": {
    "tags": []
   },
   "outputs": [],
   "source": [
    "# Посмотрим на распределение\n",
    "plt.hist(a, density=True, bins=20, alpha=0.5)\n",
    "# Название графика\n",
    "plt.title(\"Распределение\", fontdict=title_font)\n",
    "# Подпишем ось y\n",
    "plt.ylabel(\"Плотность распределения\", fontdict=label_font)\n",
    "\n",
    "plt.show()"
   ]
  },
  {
   "cell_type": "markdown",
   "id": "f854ed35-2199-44f3-9ac1-87bd05f3b7c4",
   "metadata": {},
   "source": [
    "#### 12. Поменяйте его форму так, чтобы получилась квадратная матрица `C`. Получите матрицу `D`, поэлементно прибавив матрицу `B` из предыдущего вопроса к матрице `C`, умноженной на 10. Вычислите определитель, ранг и обратную матрицу `D_inv` для `D`."
   ]
  },
  {
   "cell_type": "code",
   "execution_count": null,
   "id": "4805cbaf-b816-447c-b97c-99f65566e833",
   "metadata": {
    "tags": []
   },
   "outputs": [],
   "source": [
    "C = a.reshape(4, -1)\n",
    "C"
   ]
  },
  {
   "cell_type": "code",
   "execution_count": null,
   "id": "f84340e5-9e6f-4360-b755-3facab2995f8",
   "metadata": {
    "tags": []
   },
   "outputs": [],
   "source": [
    "B"
   ]
  },
  {
   "cell_type": "code",
   "execution_count": null,
   "id": "371ea15d-c0cc-4975-aa87-b632dacc594b",
   "metadata": {
    "tags": []
   },
   "outputs": [],
   "source": [
    "D = B + C * 10\n",
    "D"
   ]
  },
  {
   "cell_type": "code",
   "execution_count": null,
   "id": "cb66b73f-d78e-4c19-95d9-5b25b1037cf8",
   "metadata": {},
   "outputs": [],
   "source": [
    "log_matrix, D_inv = calc_param_matrix(D)\n",
    "print(log_matrix)"
   ]
  },
  {
   "cell_type": "code",
   "execution_count": null,
   "id": "c7716a26-0827-4abb-8889-92bdd55e0e13",
   "metadata": {},
   "outputs": [],
   "source": [
    "# Посмотрим, что записалось\n",
    "D_inv"
   ]
  },
  {
   "cell_type": "markdown",
   "id": "0a14a2d0-2453-45fa-8c97-3cea66430874",
   "metadata": {
    "tags": []
   },
   "source": [
    "#### 13. Приравняйте к нулю отрицательные числа в матрице `D_inv`, а положительные - к единице. Убедитесь, что в матрице `D_inv` остались только нули и единицы. С помощью функции `numpy.where`, используя матрицу `D_inv` в качестве маски, а матрицы `B` и `C` - в качестве источников данных, получите матрицу `E` размером 4x4. Элементы матрицы `E`, для которых соответствующий элемент матрицы `D_inv` равен 1, должны быть равны соответствующему элементу матрицы `B`, а элементы матрицы `E`, для которых соответствующий элемент матрицы `D_inv` равен 0, должны быть равны соответствующему элементу матрицы `C`."
   ]
  },
  {
   "cell_type": "code",
   "execution_count": null,
   "id": "8fed657a-c40a-4cd3-85a2-6baff3614077",
   "metadata": {},
   "outputs": [],
   "source": [
    "# Заменим данные > 0 на 1, < 0 на 0? \n",
    "D_inv[D_inv > 0] = 1\n",
    "D_inv[D_inv < 0] = 0\n",
    "D_inv = D_inv.astype(int)\n",
    "D_inv"
   ]
  },
  {
   "cell_type": "code",
   "execution_count": null,
   "id": "2dd41dfa-c1d3-4a04-a1ac-166087b4142e",
   "metadata": {
    "tags": []
   },
   "outputs": [],
   "source": [
    "# Создадим пустую матрицу 4ч=х4\n",
    "E = np.zeros((4, 4))\n",
    "E"
   ]
  },
  {
   "cell_type": "code",
   "execution_count": null,
   "id": "4a6222a0-a99c-44f0-8a60-cb3413bb68cf",
   "metadata": {
    "tags": []
   },
   "outputs": [],
   "source": [
    "# Перенесём в матрицу E элементы из матрицы В накладывая маску D_inv (условие в маске, переносим элементы равные 1 в маске)\n",
    "E[np.where(D_inv == 1)] = B[np.where(D_inv == 1)] \n",
    "E"
   ]
  },
  {
   "cell_type": "code",
   "execution_count": null,
   "id": "64438a3b-4a32-48d0-aa48-d3a9cdb68bc9",
   "metadata": {
    "tags": []
   },
   "outputs": [],
   "source": [
    "# Перенесём в матрицу E элементы из матрицы С накладывая маску D_inv (условие в маске, переносим элементы равные 0 в маске)\n",
    "E[np.where(D_inv == 0)] = C[np.where(D_inv == 0)] \n",
    "E = E.astype(int)\n",
    "E"
   ]
  },
  {
   "cell_type": "code",
   "execution_count": null,
   "id": "bb66a568-61ed-4a7e-9a29-400dbddeba82",
   "metadata": {},
   "outputs": [],
   "source": []
  },
  {
   "cell_type": "code",
   "execution_count": null,
   "id": "b6597fcf-b05d-4b28-a5db-1bc109069fee",
   "metadata": {},
   "outputs": [],
   "source": []
  }
 ],
 "metadata": {
  "kernelspec": {
   "display_name": "Python 3 (ipykernel)",
   "language": "python",
   "name": "python3"
  },
  "language_info": {
   "codemirror_mode": {
    "name": "ipython",
    "version": 3
   },
   "file_extension": ".py",
   "mimetype": "text/x-python",
   "name": "python",
   "nbconvert_exporter": "python",
   "pygments_lexer": "ipython3",
   "version": "3.11.9"
  }
 },
 "nbformat": 4,
 "nbformat_minor": 5
}
